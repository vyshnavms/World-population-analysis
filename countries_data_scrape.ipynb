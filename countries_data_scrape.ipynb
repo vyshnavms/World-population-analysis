{
 "cells": [
  {
   "cell_type": "code",
   "execution_count": 1,
   "id": "b45c6fe9",
   "metadata": {},
   "outputs": [],
   "source": [
    "import csv\n",
    "import requests\n",
    "from bs4 import BeautifulSoup\n",
    "import pandas as pd\n",
    "from openpyxl import load_workbook"
   ]
  },
  {
   "cell_type": "code",
   "execution_count": 2,
   "id": "a30fffbd",
   "metadata": {},
   "outputs": [],
   "source": [
    "url = \"https://www.worldometers.info/world-population/population-by-country/\""
   ]
  },
  {
   "cell_type": "code",
   "execution_count": 3,
   "id": "c25075bc",
   "metadata": {},
   "outputs": [],
   "source": [
    "response = requests.get(url)"
   ]
  },
  {
   "cell_type": "code",
   "execution_count": 4,
   "id": "0c05cf08",
   "metadata": {},
   "outputs": [],
   "source": [
    "soup = BeautifulSoup(response.text, 'html.parser')"
   ]
  },
  {
   "cell_type": "code",
   "execution_count": 5,
   "id": "27fb1b87",
   "metadata": {},
   "outputs": [],
   "source": [
    "rows = soup.find('table', {'id':'example2'}).find('tbody').find_all('tr')"
   ]
  },
  {
   "cell_type": "code",
   "execution_count": 6,
   "id": "afa3fcc5",
   "metadata": {},
   "outputs": [],
   "source": [
    "countries_list = []"
   ]
  },
  {
   "cell_type": "code",
   "execution_count": 7,
   "id": "04a6a610",
   "metadata": {},
   "outputs": [],
   "source": [
    "for row in rows:\n",
    "    dic = {}\n",
    "    \n",
    "    dic['Countries'] = row.find_all('td')[1].text\n",
    "    dic['population in 2020'] = row.find_all('td')[2].text.replace(',', '')\n",
    "    dic['Yearly Change'] = row.find_all('td')[3].text\n",
    "    dic['Net Change'] = row.find_all('td')[4].text.replace(',', '')\n",
    "    dic['Density'] = row.find_all('td')[5].text.replace(',', '')\n",
    "    dic['Land Area'] = row.find_all('td')[6].text.replace(',', '')\n",
    "    dic['Migrants'] = row.find_all('td')[7].text.replace(',', '')\n",
    "    dic['Fertility Rate'] = row.find_all('td')[8].text\n",
    "    dic['Median Age'] = row.find_all('td')[9].text\n",
    "    dic['World share'] = row.find_all('td')[11].text\n",
    "    \n",
    "    \n",
    "    \n",
    "    countries_list.append(dic)"
   ]
  },
  {
   "cell_type": "code",
   "execution_count": 8,
   "id": "a9671852",
   "metadata": {},
   "outputs": [],
   "source": [
    "df = pd.DataFrame(countries_list)"
   ]
  },
  {
   "cell_type": "code",
   "execution_count": 9,
   "id": "a293d5b2",
   "metadata": {},
   "outputs": [],
   "source": [
    "df.to_excel('C:/Users/User/Desktop/project/countries_data.xlsx', index=False)"
   ]
  },
  {
   "cell_type": "code",
   "execution_count": 10,
   "id": "a624e6b8",
   "metadata": {},
   "outputs": [],
   "source": [
    "filename = 'C:/Users/User/Desktop/project/countries_data.xlsx'\n",
    "df = pd.read_excel(filename)"
   ]
  },
  {
   "cell_type": "code",
   "execution_count": 11,
   "id": "d69b4e9b",
   "metadata": {},
   "outputs": [
    {
     "data": {
      "text/plain": [
       "(235, 10)"
      ]
     },
     "execution_count": 11,
     "metadata": {},
     "output_type": "execute_result"
    }
   ],
   "source": [
    "df.shape"
   ]
  },
  {
   "cell_type": "code",
   "execution_count": 12,
   "id": "2728abea",
   "metadata": {},
   "outputs": [
    {
     "data": {
      "text/html": [
       "<div>\n",
       "<style scoped>\n",
       "    .dataframe tbody tr th:only-of-type {\n",
       "        vertical-align: middle;\n",
       "    }\n",
       "\n",
       "    .dataframe tbody tr th {\n",
       "        vertical-align: top;\n",
       "    }\n",
       "\n",
       "    .dataframe thead th {\n",
       "        text-align: right;\n",
       "    }\n",
       "</style>\n",
       "<table border=\"1\" class=\"dataframe\">\n",
       "  <thead>\n",
       "    <tr style=\"text-align: right;\">\n",
       "      <th></th>\n",
       "      <th>Countries</th>\n",
       "      <th>population in 2020</th>\n",
       "      <th>Yearly Change</th>\n",
       "      <th>Net Change</th>\n",
       "      <th>Density</th>\n",
       "      <th>Land Area</th>\n",
       "      <th>Migrants</th>\n",
       "      <th>Fertility Rate</th>\n",
       "      <th>Median Age</th>\n",
       "      <th>World share</th>\n",
       "    </tr>\n",
       "  </thead>\n",
       "  <tbody>\n",
       "    <tr>\n",
       "      <th>0</th>\n",
       "      <td>China</td>\n",
       "      <td>1439323776</td>\n",
       "      <td>0.39 %</td>\n",
       "      <td>5540090</td>\n",
       "      <td>153</td>\n",
       "      <td>9388211</td>\n",
       "      <td>-348399</td>\n",
       "      <td>1.7</td>\n",
       "      <td>38</td>\n",
       "      <td>18.47 %</td>\n",
       "    </tr>\n",
       "    <tr>\n",
       "      <th>1</th>\n",
       "      <td>India</td>\n",
       "      <td>1380004385</td>\n",
       "      <td>0.99 %</td>\n",
       "      <td>13586631</td>\n",
       "      <td>464</td>\n",
       "      <td>2973190</td>\n",
       "      <td>-532687</td>\n",
       "      <td>2.2</td>\n",
       "      <td>28</td>\n",
       "      <td>17.70 %</td>\n",
       "    </tr>\n",
       "    <tr>\n",
       "      <th>2</th>\n",
       "      <td>United States</td>\n",
       "      <td>331002651</td>\n",
       "      <td>0.59 %</td>\n",
       "      <td>1937734</td>\n",
       "      <td>36</td>\n",
       "      <td>9147420</td>\n",
       "      <td>954806</td>\n",
       "      <td>1.8</td>\n",
       "      <td>38</td>\n",
       "      <td>4.25 %</td>\n",
       "    </tr>\n",
       "    <tr>\n",
       "      <th>3</th>\n",
       "      <td>Indonesia</td>\n",
       "      <td>273523615</td>\n",
       "      <td>1.07 %</td>\n",
       "      <td>2898047</td>\n",
       "      <td>151</td>\n",
       "      <td>1811570</td>\n",
       "      <td>-98955</td>\n",
       "      <td>2.3</td>\n",
       "      <td>30</td>\n",
       "      <td>3.51 %</td>\n",
       "    </tr>\n",
       "    <tr>\n",
       "      <th>4</th>\n",
       "      <td>Pakistan</td>\n",
       "      <td>220892340</td>\n",
       "      <td>2.00 %</td>\n",
       "      <td>4327022</td>\n",
       "      <td>287</td>\n",
       "      <td>770880</td>\n",
       "      <td>-233379</td>\n",
       "      <td>3.6</td>\n",
       "      <td>23</td>\n",
       "      <td>2.83 %</td>\n",
       "    </tr>\n",
       "  </tbody>\n",
       "</table>\n",
       "</div>"
      ],
      "text/plain": [
       "       Countries  population in 2020 Yearly Change  Net Change  Density  \\\n",
       "0          China          1439323776        0.39 %     5540090      153   \n",
       "1          India          1380004385        0.99 %    13586631      464   \n",
       "2  United States           331002651        0.59 %     1937734       36   \n",
       "3      Indonesia           273523615        1.07 %     2898047      151   \n",
       "4       Pakistan           220892340        2.00 %     4327022      287   \n",
       "\n",
       "   Land Area Migrants Fertility Rate Median Age World share  \n",
       "0    9388211  -348399            1.7         38     18.47 %  \n",
       "1    2973190  -532687            2.2         28     17.70 %  \n",
       "2    9147420   954806            1.8         38      4.25 %  \n",
       "3    1811570   -98955            2.3         30      3.51 %  \n",
       "4     770880  -233379            3.6         23      2.83 %  "
      ]
     },
     "execution_count": 12,
     "metadata": {},
     "output_type": "execute_result"
    }
   ],
   "source": [
    "df.head()"
   ]
  },
  {
   "cell_type": "code",
   "execution_count": 13,
   "id": "12adf33a",
   "metadata": {},
   "outputs": [],
   "source": [
    "df1 = df.drop(df.index[200:])"
   ]
  },
  {
   "cell_type": "code",
   "execution_count": 14,
   "id": "6ecc0795",
   "metadata": {},
   "outputs": [],
   "source": [
    "df1.to_excel('C:/Users/User/Desktop/project/countries_data2.xlsx', index=False)"
   ]
  }
 ],
 "metadata": {
  "kernelspec": {
   "display_name": "Python 3 (ipykernel)",
   "language": "python",
   "name": "python3"
  },
  "language_info": {
   "codemirror_mode": {
    "name": "ipython",
    "version": 3
   },
   "file_extension": ".py",
   "mimetype": "text/x-python",
   "name": "python",
   "nbconvert_exporter": "python",
   "pygments_lexer": "ipython3",
   "version": "3.10.9"
  }
 },
 "nbformat": 4,
 "nbformat_minor": 5
}
